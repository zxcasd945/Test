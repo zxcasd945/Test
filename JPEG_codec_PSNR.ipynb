{
  "nbformat": 4,
  "nbformat_minor": 0,
  "metadata": {
    "colab": {
      "provenance": [],
      "authorship_tag": "ABX9TyO5xp78U093q47G+VxyRM0f",
      "include_colab_link": true
    },
    "kernelspec": {
      "name": "python3",
      "display_name": "Python 3"
    },
    "language_info": {
      "name": "python"
    }
  },
  "cells": [
    {
      "cell_type": "markdown",
      "metadata": {
        "id": "view-in-github",
        "colab_type": "text"
      },
      "source": [
        "<a href=\"https://colab.research.google.com/github/zxcasd945/Video_compression/blob/main/JPEG_codec_PSNR.ipynb\" target=\"_parent\"><img src=\"https://colab.research.google.com/assets/colab-badge.svg\" alt=\"Open In Colab\"/></a>"
      ]
    },
    {
      "cell_type": "code",
      "source": [
        "pip install opencv-python"
      ],
      "metadata": {
        "id": "cWLTMl24qfrS"
      },
      "execution_count": null,
      "outputs": []
    },
    {
      "cell_type": "code",
      "execution_count": null,
      "metadata": {
        "colab": {
          "base_uri": "https://localhost:8080/"
        },
        "id": "UcnF5dCgYj-j",
        "outputId": "c1be8a08-f4c1-4cb0-8434-9055d1e37f7a"
      },
      "outputs": [
        {
          "output_type": "stream",
          "name": "stdout",
          "text": [
            "Original baboon.BMP file size:786.486 KB\n",
            "Compress compressed_baboon.BMP.jpg file size:50.694 KB\n",
            "Compression ratio:15.51\n",
            "PSNR: 36.93 dB\n",
            "\n",
            "Original Lena.bmp file size:786.486 KB\n",
            "Compress compressed_Lena.bmp.jpg file size:24.329 KB\n",
            "Compression ratio:32.33\n",
            "PSNR: 40.55 dB\n",
            "\n",
            "Original Peppers.BMP file size:786.486 KB\n",
            "Compress compressed_Peppers.BMP.jpg file size:26.328 KB\n",
            "Compression ratio:29.87\n",
            "PSNR: 41.78 dB\n",
            "\n"
          ]
        }
      ],
      "source": [
        "###Intellectual Property Design for Video Compression###\n",
        "###Video IP---Homework1###\n",
        "\n",
        "from PIL import Image\n",
        "import os\n",
        "import cv2\n",
        "import numpy as np\n",
        "# Define the compression quality (1-95, 95 being the best quality)\n",
        "compression_quality = 50\n",
        "\n",
        "for dirpath, dirnames, filenames in os.walk(\"pictures\"):\n",
        "\n",
        "    for pic in filenames:\n",
        "      ############ JPEG Compression and calucation of compression ratio ###########################\n",
        "      # Load the original image\n",
        "      original_image = Image.open('pictures/'+pic)\n",
        "\n",
        "      # Save the image with JPEG compression\n",
        "      compressed_image_path ='compressed_'+pic+'.jpg'\n",
        "      original_image.save(compressed_image_path, \"JPEG\", quality=compression_quality)\n",
        "\n",
        "      # Calculate the file size and compression ratio\n",
        "      original_file_size = os.path.getsize('pictures/'+pic)\n",
        "      compressed_image_size = os.path.getsize(compressed_image_path)\n",
        "      print(f'Original {pic} file size:{original_file_size/1000} KB')\n",
        "      print(f'Compress {compressed_image_path} file size:{compressed_image_size/1000} KB')\n",
        "      Compression_ratio = original_file_size/compressed_image_size\n",
        "      print(f'Compression ratio:{round(Compression_ratio,2)}')\n",
        "\n",
        "      ############ Calculate PSNR#############\n",
        "      # Load the original and compressed images\n",
        "      original_image = cv2.imread('pictures/'+pic)\n",
        "      compressed_image = cv2.imread(compressed_image_path)\n",
        "\n",
        "      # Calculate the squared differences\n",
        "      squared_diff = cv2.absdiff(original_image, compressed_image)\n",
        "      squared_diff = squared_diff.astype(np.float32)\n",
        "\n",
        "      # Split the channels (for color images)\n",
        "      if len(original_image.shape) == 3:\n",
        "          b, g, r = cv2.split(squared_diff)\n",
        "      else:\n",
        "          b = squared_diff\n",
        "\n",
        "      # Calculate the squared differences\n",
        "      squared_diff = cv2.absdiff(original_image, compressed_image)\n",
        "      squared_diff = squared_diff.astype(np.float32)\n",
        "\n",
        "      # Split the channels (for color images)\n",
        "      if len(original_image.shape) == 3:\n",
        "          b, g, r = cv2.split(squared_diff)\n",
        "      else:\n",
        "          b = squared_diff\n",
        "\n",
        "      # Calculate the MSE\n",
        "      mse = np.mean(b) if len(original_image.shape) == 3 else np.mean(squared_diff)\n",
        "\n",
        "      # Define the maximum pixel value\n",
        "      MAX_i = 255\n",
        "\n",
        "      # Calculate PSNR\n",
        "      PSNR = 10 * np.log10((MAX_i ** 2) / mse)\n",
        "      print(f\"PSNR: {round(PSNR,2)} dB\\n\")"
      ]
    },
    {
      "cell_type": "code",
      "source": [],
      "metadata": {
        "colab": {
          "base_uri": "https://localhost:8080/"
        },
        "id": "bkU2KNYZoctv",
        "outputId": "facbaeca-8b6d-4f32-dec2-e5952f93d832"
      },
      "execution_count": null,
      "outputs": [
        {
          "output_type": "stream",
          "name": "stdout",
          "text": [
            "Requirement already satisfied: opencv-python in /usr/local/lib/python3.10/dist-packages (4.8.0.76)\n",
            "Requirement already satisfied: numpy>=1.21.2 in /usr/local/lib/python3.10/dist-packages (from opencv-python) (1.23.5)\n"
          ]
        }
      ]
    },
    {
      "cell_type": "code",
      "source": [],
      "metadata": {
        "id": "i2W7tUM1ohRC"
      },
      "execution_count": null,
      "outputs": []
    }
  ]
}